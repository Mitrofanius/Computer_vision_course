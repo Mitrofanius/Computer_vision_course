{
 "cells": [
  {
   "cell_type": "code",
   "execution_count": 139,
   "metadata": {},
   "outputs": [
    {
     "name": "stdout",
     "output_type": "stream",
     "text": [
      "The autoreload extension is already loaded. To reload it, use:\n",
      "  %reload_ext autoreload\n"
     ]
    }
   ],
   "source": [
    "import torch\n",
    "import timeit\n",
    "import matplotlib\n",
    "import numpy as np\n",
    "import torch.optim as optim\n",
    "import matplotlib.pyplot as plt\n",
    "\n",
    "from utils import generate_task_1, generate_task_2, visualize_manipulator, visualize_calibration\n",
    "from assignments import dkt, dkt_vectorized, manipulator_loss, calibration_loss\n",
    "\n",
    "%matplotlib inline\n",
    "plt.rcParams['figure.figsize'] = (10.0, 8.0) # set default size of plots\n",
    "plt.rcParams['image.interpolation'] = 'nearest'\n",
    "plt.rcParams['image.cmap'] = 'gray'\n",
    "\n",
    "# for auto-reloading external modules\n",
    "# see http://stackoverflow.com/questions/1907993/autoreload-of-modules-in-ipython\n",
    "%load_ext autoreload\n",
    "%autoreload 2"
   ]
  },
  {
   "cell_type": "markdown",
   "metadata": {},
   "source": [
    "# TASK 1.1 - Implement DKT (5 points)\n",
    "First, you will implement a function that calculates: “Positions of all joints and the end-effector ($X$), given joints angles ($\\omega$), link lengths ($\\rho$) and base angle and distance from origin ($base$) ”. This function will later help you to find the joint angles needed to move the end effector to desired position. We will use SGD (Stochastic gradient descent) to find desired position of the end-effector.\n",
    "\n",
    "In general, you can use arbitrary architecture such as a 100-degree polynomial, fully connected neural network, or deep convolutional network and train its parameters to predict positions observed on the real manipulator; however, it is advisable to exploit the knowledge of the underlying kinematic structure. This task is called the Direct Kinematic Task (DKT).\n",
    "\n",
    "##### For this task implement `dkt()` and `manipulator_loss()` to get 5 points.\n"
   ]
  },
  {
   "cell_type": "code",
   "execution_count": 191,
   "metadata": {},
   "outputs": [],
   "source": [
    "# Generate data for the task\n",
    "NUMBER_OF_JOINTS = 10\n",
    "omega, rho, base, x_goal = generate_task_1(NUMBER_OF_JOINTS)\n",
    "\n",
    "# Save initial state for repeatability\n",
    "with torch.no_grad():\n",
    "    old_omega, old_rho = omega.clone(), rho.clone()\n",
    "\n",
    "# Let's take a look at the data\n",
    "print(f'Joint angles: {omega}')\n",
    "print(f'Link lengths: {rho}')\n",
    "print(f'Base angle and length: {base}')\n",
    "print(f'Goal coordinates: {x_goal}')\n",
    "\n",
    "# Plot the base with the goal and random manipulator position\n",
    "X_rand = torch.cat((torch.zeros(2).unsqueeze(1), torch.rand((2, NUMBER_OF_JOINTS))), 1)\n",
    "visualize_manipulator(X_rand, x_goal)"
   ]
  },
  {
   "cell_type": "markdown",
   "metadata": {},
   "source": [
    "## Direct Kinematic Task\n",
    "\n",
    "Our inputs are 3 vectors. First is $\\omega$ which represents relative angle of the joints. Second is $\\rho$ which represents length of the links. The third is *base* which represents $[\\omega_0 \\quad \\rho_0]$ with respect to origin.\n",
    "$$\n",
    "\\omega = \\begin{bmatrix} \\omega_1 \\\\ \\omega_2 \\\\ \\vdots \\\\ \\omega_n \\end{bmatrix}, \\quad\n",
    "\\rho = \\begin{bmatrix} \\rho_1 \\\\ \\rho_2 \\\\ \\vdots \\\\ \\rho_n \\end{bmatrix}, \\quad\n",
    "base = \\begin{bmatrix} \\omega_0 \\\\ \\rho_0 \\end{bmatrix}\n",
    "$$\n",
    "\n",
    "<br/>\n",
    "<img src=\"images/dkt.png\" width=660 height=336 align=\"center\"/>\n",
    "<br/>\n",
    "\n",
    "We can calculate the joint positions using equations\n",
    "\n",
    "$$\n",
    "\\varphi_k = \\omega_0 + \\omega_1 + \\omega_2 + \\dots + \\omega_k \\\\\n",
    "x_{k+1} = f_1(x_k,\\;\\rho_k,\\;\\varphi_k) \\\\\n",
    "y_{k+1} = f_2(y_k,\\;\\rho_k,\\;\\varphi_k) \\\\\n",
    "$$\n",
    "\n",
    "After you implement functions $f_1$ and $f_2$ the output is\n",
    "\n",
    "$$\n",
    "X = \\begin{bmatrix} x_0 & x_1 & \\dots & x_n \\\\ y_0 & y_1 & \\dots & y_n \\end{bmatrix}\n",
    "$$"
   ]
  },
  {
   "cell_type": "code",
   "execution_count": 1,
   "metadata": {},
   "outputs": [
    {
     "ename": "NameError",
     "evalue": "name 'omega' is not defined",
     "output_type": "error",
     "traceback": [
      "\u001b[0;31m---------------------------------------------------------------------------\u001b[0m",
      "\u001b[0;31mNameError\u001b[0m                                 Traceback (most recent call last)",
      "Cell \u001b[0;32mIn [1], line 6\u001b[0m\n\u001b[1;32m      2\u001b[0m \u001b[39mimport\u001b[39;00m \u001b[39mmatplotlib\u001b[39;00m\n\u001b[1;32m      3\u001b[0m \u001b[39m# matplotlib.use('Qt5Agg')\u001b[39;00m\n\u001b[1;32m      4\u001b[0m \n\u001b[1;32m      5\u001b[0m \u001b[39m# Gradient requirement for optimization\u001b[39;00m\n\u001b[0;32m----> 6\u001b[0m omega\u001b[39m.\u001b[39mrequires_grad_(\u001b[39mTrue\u001b[39;00m)\n\u001b[1;32m      7\u001b[0m \u001b[39m# rho.requires_grad_(True)\u001b[39;00m\n\u001b[1;32m      8\u001b[0m \n\u001b[1;32m      9\u001b[0m \u001b[39m# Parameters (PLAY WITH THEM!!!)\u001b[39;00m\n\u001b[1;32m     10\u001b[0m \u001b[39m# ------------- PLAY TIME -------------\u001b[39;00m\n\u001b[1;32m     11\u001b[0m learning_rate \u001b[39m=\u001b[39m \u001b[39m0.0005\u001b[39m\n",
      "\u001b[0;31mNameError\u001b[0m: name 'omega' is not defined"
     ]
    }
   ],
   "source": [
    "# Change matplotlib backend for animation\n",
    "import matplotlib\n",
    "# matplotlib.use('Qt5Agg')\n",
    "\n",
    "# Gradient requirement for optimization\n",
    "omega.requires_grad_(True)\n",
    "# rho.requires_grad_(True)\n",
    "\n",
    "# Parameters (PLAY WITH THEM!!!)\n",
    "# ------------- PLAY TIME -------------\n",
    "learning_rate = 0.0005\n",
    "n_iterations = 300\n",
    "# -------------------------------------\n",
    "\n",
    "optimizer = optim.SGD([omega, rho], lr=learning_rate)\n",
    "\n",
    "for i in range(n_iterations):\n",
    "\n",
    "    # Compute positions of the joints\n",
    "    #----------------------------------------------------------\n",
    "    # TODO: implement dkt function\n",
    "    X = dkt(omega, rho, base)\n",
    "    #----------------------------------------------------------\n",
    "\n",
    "    # Compute loss\n",
    "    #----------------------------------------------------------\n",
    "    # TODO: implement manipulator_loss function\n",
    "    loss = manipulator_loss(X, x_goal)\n",
    "    #----------------------------------------------------------\n",
    "\n",
    "    # Compute gradient\n",
    "    loss.backward()\n",
    "#\n",
    "    # Make an optimization step and reset the gradient\n",
    "    optimizer.step()\n",
    "    optimizer.zero_grad()\n",
    "\n",
    "    print(f'Iteration: {i}, loss = {loss.detach().numpy()}, rho (link lengths) = {rho.detach().numpy()}')\n",
    "    if i % 5 == 0:\n",
    "        visualize_manipulator(X, x_goal)\n",
    "\n",
    "# Reset omega and rho for repeatability\n",
    "with torch.no_grad():\n",
    "    omega, rho = old_omega.clone(), old_rho.clone()\n",
    "\n",
    "%matplotlib inline\n",
    "# Change matplotlib backend back to inline"
   ]
  },
  {
   "cell_type": "code",
   "execution_count": 94,
   "metadata": {},
   "outputs": [
    {
     "name": "stdout",
     "output_type": "stream",
     "text": [
      "tensor([0.9579, 0.9579, 0.9579, 0.9579, 0.9579, 0.9579, 0.9579, 0.9579, 0.9579,\n",
      "        0.9579, 0.9579, 0.2872, 0.2872, 0.2872, 0.2872, 0.2872, 0.2872, 0.2872,\n",
      "        0.2872, 0.2872, 0.2872, 0.2872])\n"
     ]
    }
   ],
   "source": [
    "X_2 = dkt_vectorized(omega, rho, base)"
   ]
  },
  {
   "cell_type": "code",
   "execution_count": null,
   "metadata": {},
   "outputs": [],
   "source": []
  },
  {
   "cell_type": "markdown",
   "metadata": {},
   "source": [
    "# TASK 1.2 - Implement vectorized DKT (1 point)\n",
    "\n",
    "Now you will implement fully vectorized DKT with no `for` loop. Why? Because vectorized operations in numpy and pytorch are a lot faster than normal iterations. Don't you believe? Try it yourself! :D\n",
    "\n",
    "##### For this task implement `dkt_vectorized()` to get 1 point."
   ]
  },
  {
   "cell_type": "markdown",
   "metadata": {},
   "source": [
    "## DKT Vectorized\n",
    "\n",
    "Our inputs are three vectors. First is $\\omega$ which represents relative angles of the joints. Second is $\\rho$ which represents lengths of the links. Third is $base$ which represents base angle and distance from origin ([0, 0]). Let's take an example when we have 3 joints.\n",
    "$$\n",
    "\\omega = \\begin{bmatrix} \\omega_1 \\\\ \\omega_2 \\end{bmatrix}, \\quad\n",
    "\\rho = \\begin{bmatrix} \\rho_1 \\\\ \\rho_2 \\end{bmatrix}, \\quad\n",
    "base = \\begin{bmatrix} \\omega_0 \\\\ \\rho_0 \\end{bmatrix}\n",
    "$$\n",
    "\n",
    "First we can calculate total angle of each joint by equation $\\varphi_k = \\omega_1 + \\omega_2 + \\dots + \\omega_k$. In our 3 joint case we can write the equation as follows.\n",
    "$$\n",
    "\\begin{bmatrix} 1 & 0 & 0 \\\\ 1 & 1 & 0 \\\\ 1 & 1 & 1 \\end{bmatrix}\n",
    "\\cdot\n",
    "\\begin{bmatrix} \\omega_0 \\\\ \\omega_1 \\\\ \\omega_2 \\end{bmatrix}\n",
    "=\n",
    "\\begin{bmatrix} \\omega_0 \\\\ \\omega_0 + \\omega_1 \\\\ \\omega_0 + \\omega_1 + \\omega_2 \\end{bmatrix}\n",
    "=\n",
    "\\begin{bmatrix} \\varphi_0 \\\\ \\varphi_1 \\\\ \\varphi_2 \\end{bmatrix}\\\\\n",
    "$$\n",
    "\n",
    "Then we calculate the position of joints with respect to origin $[0 \\quad 0]$.\n",
    "\n",
    "$$\n",
    "\\begin{bmatrix}\n",
    "    \\cos{\\varphi_0} & \\cos{\\varphi_1} & \\cos{\\varphi_2} \\\\\n",
    "    \\sin{\\varphi_0} & \\sin{\\varphi_1} & \\sin{\\varphi_2}\n",
    "\\end{bmatrix}\n",
    "\\cdot\n",
    "\\begin{bmatrix}\n",
    "    \\rho_0 & 0 & 0 \\\\ 0 & \\rho_1 & 0 \\\\ 0 & 0 & \\rho_2\n",
    "\\end{bmatrix}\n",
    "= \\\\\n",
    "\\begin{bmatrix}\n",
    "    \\rho_0 \\cdot \\cos{\\varphi_0} & \\rho_1 \\cdot \\cos{\\varphi_1} & \\rho_2 \\cdot \\cos{\\varphi_2} \\\\\n",
    "    \\rho_0 \\cdot \\sin{\\varphi_0} & \\rho_1 \\cdot \\sin{\\varphi_1} & \\rho_2 \\cdot \\sin{\\varphi_2}\n",
    "\\end{bmatrix}\n",
    "=\n",
    "\\begin{bmatrix} x_0' & x_1' & x_3' \\\\ y_0' & y_1' & y_3' \\end{bmatrix}\n",
    "$$\n",
    "\n",
    "And finally we can calculate the real position of the joints.\n",
    "\n",
    "$$\n",
    "\\begin{bmatrix} x_0' & x_1' & x_3' \\\\ y_0' & y_1' & y_3' \\end{bmatrix}\n",
    "\\cdot\n",
    "\\begin{bmatrix} 1 & 1 & 1 \\\\ 0 & 1 & 1 \\\\ 0 & 0 & 1 \\end{bmatrix}\n",
    "=\n",
    "\\begin{bmatrix} x_0 & x_1 & x_3 \\\\ y_0 & y_1 & y_3 \\end{bmatrix}\n",
    "= X\n",
    "$$"
   ]
  },
  {
   "cell_type": "code",
   "execution_count": 100,
   "metadata": {},
   "outputs": [
    {
     "name": "stdout",
     "output_type": "stream",
     "text": [
      "\n",
      "Nicely done! Your vectorized and non-vectorized function matches.\n",
      "\n",
      "Testing execution time of non-vectorized dkt...\n",
      "1.62 ms ± 7.3 µs per loop (mean ± std. dev. of 7 runs, 1,000 loops each)\n",
      "\n",
      "Testing execution time of vectorized dkt...\n",
      "180 µs ± 31.3 µs per loop (mean ± std. dev. of 7 runs, 1,000 loops each)\n",
      "\n",
      "Maybe the difference is not that significant in this example, but you get the idea, right? :D\n"
     ]
    }
   ],
   "source": [
    "# Generate data for the task\n",
    "NUMBER_OF_JOINTS = 100\n",
    "omega, rho, base, x_goal = generate_task_1(NUMBER_OF_JOINTS)\n",
    "\n",
    "# Compute the positions\n",
    "X_1 = dkt(omega, rho, base)\n",
    "#----------------------------------------------------------\n",
    "# TODO: implement dkt function\n",
    "X_2 = dkt_vectorized(omega, rho, base)\n",
    "#----------------------------------------------------------\n",
    "\n",
    "\n",
    "# Compare the results\n",
    "if torch.sum(torch.abs(X_2 - X_1)) < 1e-1:\n",
    "    print(\"\\nNicely done! Your vectorized and non-vectorized function matches.\")\n",
    "\n",
    "    print(\"\\nTesting execution time of non-vectorized dkt...\")\n",
    "    %timeit dkt(omega, rho, base)\n",
    "\n",
    "    print(\"\\nTesting execution time of vectorized dkt...\")\n",
    "    %timeit dkt_vectorized(omega, rho, base)\n",
    "    print(\"\\nMaybe the difference is not that significant in this example, but you get the idea, right? :D\")\n",
    "else:\n",
    "    print(\"Try harder!\")\n"
   ]
  },
  {
   "cell_type": "markdown",
   "metadata": {},
   "source": [
    "# TASK 2 - Calibration (1 point)\n",
    "Given the recorded positions of the end-effector ($X_{goals}$) and corresponding joint angles ($\\omega$), estimate the lengths of all links ($\\rho$). Simply define a new loss function (`loss_calibration()`) which measures the distance between the desired position of end-effector ($X_{goals}$) and the actual position for given ($\\omega$) computed via `dkt()`.\n",
    "\n",
    "##### For this task implement `calibration_loss()` to get 1 point."
   ]
  },
  {
   "cell_type": "code",
   "execution_count": 182,
   "metadata": {},
   "outputs": [
    {
     "name": "stdout",
     "output_type": "stream",
     "text": [
      "Joint angles shape: torch.Size([5, 60])\n",
      "Link lengths shape: torch.Size([5])\n",
      "Base angle and length shape: torch.Size([2])\n",
      "Goal coordinates shape: torch.Size([2, 60])\n"
     ]
    },
    {
     "data": {
      "image/png": "[encoded data removed]",
      "text/plain": [
       "<Figure size 1000x800 with 1 Axes>"
      ]
     },
     "metadata": {},
     "output_type": "display_data"
    }
   ],
   "source": [
    "%matplotlib inline\n",
    "# Generate data for the task\n",
    "omega, rho, base, X_goals = generate_task_2()\n",
    "\n",
    "with torch.no_grad():\n",
    "    old_omega, old_rho = omega.clone(), rho.clone()\n",
    "\n",
    "# Let's take a look at the data\n",
    "print(f'Joint angles shape: {omega.shape}')\n",
    "print(f'Link lengths shape: {rho.shape}')\n",
    "print(f'Base angle and length shape: {base.shape}')\n",
    "print(f'Goal coordinates shape: {X_goals.shape}')\n",
    "\n",
    "# Plot the base with the goal and random manipulator position\n",
    "states_zero = torch.zeros((X_goals.shape[1], 2, NUMBER_OF_JOINTS + 1))\n",
    "visualize_calibration(states_zero, X_goals)"
   ]
  },
  {
   "cell_type": "code",
   "execution_count": 183,
   "metadata": {},
   "outputs": [
    {
     "data": {
      "text/plain": [
       "tensor(19.8641, dtype=torch.float64, grad_fn=<SumBackward0>)"
      ]
     },
     "execution_count": 183,
     "metadata": {},
     "output_type": "execute_result"
    }
   ],
   "source": [
    "calibration_loss(X, X_goals[:, 0])"
   ]
  },
  {
   "cell_type": "code",
   "execution_count": 195,
   "metadata": {},
   "outputs": [],
   "source": [
    "# Change matplotlib backend for animation\n",
    "import matplotlib\n",
    "# matplotlib.use('Qt5Agg')\n",
    "\n",
    "rho.requires_grad_(True)\n",
    "\n",
    "# Parameters (PLAY WITH THEM!!!)\n",
    "# ------------- PLAY TIME -------------\n",
    "learning_rate = 0.001\n",
    "n_iterations = 401\n",
    "# learning_rate = 0.00008\n",
    "# n_iterations = 40\n",
    "# -------------------------------------\n",
    "\n",
    "optimizer = optim.SGD([rho], lr=learning_rate)\n",
    "\n",
    "n_measurements = X_goals.shape[1]\n",
    "\n",
    "for i in range(n_iterations):\n",
    "    loss = 0\n",
    "    states = []\n",
    "    for j in range(n_measurements):\n",
    "\n",
    "        # Compute state of j-th state with optimized rho values and add it to states for visualization\n",
    "        X = dkt(omega[:, j], rho, base)\n",
    "        states.append(X)\n",
    "\n",
    "        # Compute loss and add it to total loss for all measurements\n",
    "        #----------------------------------------------------------\n",
    "        # TODO: implement calibration_loss function\n",
    "        loss += calibration_loss(X, X_goals[:, j])\n",
    "        #----------------------------------------------------------\n",
    "\n",
    "    # Compute gradient\n",
    "    loss.backward()\n",
    "\n",
    "    # Make an optimization step and reset the gradient\n",
    "    optimizer.step()\n",
    "    optimizer.zero_grad()\n",
    "\n",
    "    # Print loss and visualize states\n",
    "    print(f'Iteration: {i}, loss = {loss.detach().numpy()}, rho (link lengths) = {rho.detach().numpy()}')\n",
    "    # if i % 50 == 0:\n",
    "        # print(f'Iteration: {i}, loss = {loss.detach().numpy()}, rho (link lengths) = {rho.detach().numpy()}')\n",
    "\n",
    "    if i % 25 == 0:\n",
    "        print(f'Iteration: {i}, loss = {loss.detach().numpy()}, rho (link lengths) = {rho.detach().numpy()}')\n",
    "        states = torch.stack(states, dim=0)\n",
    "        visualize_calibration(states, X_goals)\n",
    "\n",
    "# Reset omega and rho for repeatability\n",
    "with torch.no_grad():\n",
    "    omega, rho = old_omega.clone(), old_rho.clone()\n",
    "\n",
    "# Change matplotlib backend back to inline\n",
    "%matplotlib inline"
   ]
  }
 ],
 "metadata": {
  "kernelspec": {
   "display_name": "Python 3.10.5 64-bit ('vir')",
   "language": "python",
   "name": "python3"
  },
  "language_info": {
   "codemirror_mode": {
    "name": "ipython",
    "version": 3
   },
   "file_extension": ".py",
   "mimetype": "text/x-python",
   "name": "python",
   "nbconvert_exporter": "python",
   "pygments_lexer": "ipython3",
   "version": "3.10.5"
  },
  "vscode": {
   "interpreter": {
    "hash": "e700c736b417bb1596cc6d17b8d8160323fcf406fee083a467e0e1a64b194ae8"
   }
  }
 },
 "nbformat": 4,
 "nbformat_minor": 1
}
